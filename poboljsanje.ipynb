{
 "cells": [
  {
   "cell_type": "markdown",
   "metadata": {},
   "source": [
    "# Poboljšanje rezultata"
   ]
  },
  {
   "cell_type": "code",
   "execution_count": 87,
   "metadata": {},
   "outputs": [],
   "source": [
    "import numpy as np\n",
    "import pandas as pd\n",
    "import seaborn as sns\n",
    "import matplotlib.pyplot as plt\n",
    "from sklearn.model_selection import train_test_split, cross_val_score\n",
    "from sklearn.datasets import make_classification\n",
    "from sklearn.svm import SVC\n",
    "from sklearn.linear_model import LogisticRegression\n",
    "from sklearn.neighbors import KNeighborsClassifier\n",
    "from sklearn.tree import DecisionTreeClassifier\n",
    "from sklearn.naive_bayes import MultinomialNB, GaussianNB\n",
    "from sklearn.ensemble import RandomForestClassifier\n",
    "from sklearn.metrics import accuracy_score, confusion_matrix\n",
    "from sklearn.preprocessing import StandardScaler"
   ]
  },
  {
   "cell_type": "code",
   "execution_count": 2,
   "metadata": {},
   "outputs": [],
   "source": [
    "import warnings\n",
    "warnings.filterwarnings('ignore')"
   ]
  },
  {
   "cell_type": "code",
   "execution_count": 3,
   "metadata": {},
   "outputs": [],
   "source": [
    "%store -r data"
   ]
  },
  {
   "cell_type": "code",
   "execution_count": 72,
   "metadata": {},
   "outputs": [
    {
     "data": {
      "text/html": [
       "<div>\n",
       "<style scoped>\n",
       "    .dataframe tbody tr th:only-of-type {\n",
       "        vertical-align: middle;\n",
       "    }\n",
       "\n",
       "    .dataframe tbody tr th {\n",
       "        vertical-align: top;\n",
       "    }\n",
       "\n",
       "    .dataframe thead th {\n",
       "        text-align: right;\n",
       "    }\n",
       "</style>\n",
       "<table border=\"1\" class=\"dataframe\">\n",
       "  <thead>\n",
       "    <tr style=\"text-align: right;\">\n",
       "      <th></th>\n",
       "      <th>Diagnosis</th>\n",
       "      <th>Mean Radius</th>\n",
       "      <th>Mean Texture</th>\n",
       "      <th>Mean Perimeter</th>\n",
       "      <th>Mean Area</th>\n",
       "      <th>Mean Smoothness</th>\n",
       "      <th>Mean Compactness</th>\n",
       "      <th>Mean Concavity</th>\n",
       "      <th>Mean Concave Points</th>\n",
       "      <th>Mean Symmetry</th>\n",
       "      <th>...</th>\n",
       "      <th>Worst Radius</th>\n",
       "      <th>Worst Texture</th>\n",
       "      <th>Worst Perimeter</th>\n",
       "      <th>Worst Area</th>\n",
       "      <th>Worst Smoothness</th>\n",
       "      <th>Worst Compactness</th>\n",
       "      <th>Worst Concavity</th>\n",
       "      <th>Worst Concave Points</th>\n",
       "      <th>Worst Symmetry</th>\n",
       "      <th>Worst Fractal dimension</th>\n",
       "    </tr>\n",
       "  </thead>\n",
       "  <tbody>\n",
       "    <tr>\n",
       "      <th>0</th>\n",
       "      <td>1</td>\n",
       "      <td>17.99</td>\n",
       "      <td>10.38</td>\n",
       "      <td>122.80</td>\n",
       "      <td>1001.0</td>\n",
       "      <td>0.11840</td>\n",
       "      <td>0.27760</td>\n",
       "      <td>0.3001</td>\n",
       "      <td>0.14710</td>\n",
       "      <td>0.2419</td>\n",
       "      <td>...</td>\n",
       "      <td>25.38</td>\n",
       "      <td>17.33</td>\n",
       "      <td>184.60</td>\n",
       "      <td>2019.0</td>\n",
       "      <td>0.1622</td>\n",
       "      <td>0.6656</td>\n",
       "      <td>0.7119</td>\n",
       "      <td>0.2654</td>\n",
       "      <td>0.4601</td>\n",
       "      <td>0.11890</td>\n",
       "    </tr>\n",
       "    <tr>\n",
       "      <th>1</th>\n",
       "      <td>1</td>\n",
       "      <td>20.57</td>\n",
       "      <td>17.77</td>\n",
       "      <td>132.90</td>\n",
       "      <td>1326.0</td>\n",
       "      <td>0.08474</td>\n",
       "      <td>0.07864</td>\n",
       "      <td>0.0869</td>\n",
       "      <td>0.07017</td>\n",
       "      <td>0.1812</td>\n",
       "      <td>...</td>\n",
       "      <td>24.99</td>\n",
       "      <td>23.41</td>\n",
       "      <td>158.80</td>\n",
       "      <td>1956.0</td>\n",
       "      <td>0.1238</td>\n",
       "      <td>0.1866</td>\n",
       "      <td>0.2416</td>\n",
       "      <td>0.1860</td>\n",
       "      <td>0.2750</td>\n",
       "      <td>0.08902</td>\n",
       "    </tr>\n",
       "    <tr>\n",
       "      <th>2</th>\n",
       "      <td>1</td>\n",
       "      <td>19.69</td>\n",
       "      <td>21.25</td>\n",
       "      <td>130.00</td>\n",
       "      <td>1203.0</td>\n",
       "      <td>0.10960</td>\n",
       "      <td>0.15990</td>\n",
       "      <td>0.1974</td>\n",
       "      <td>0.12790</td>\n",
       "      <td>0.2069</td>\n",
       "      <td>...</td>\n",
       "      <td>23.57</td>\n",
       "      <td>25.53</td>\n",
       "      <td>152.50</td>\n",
       "      <td>1709.0</td>\n",
       "      <td>0.1444</td>\n",
       "      <td>0.4245</td>\n",
       "      <td>0.4504</td>\n",
       "      <td>0.2430</td>\n",
       "      <td>0.3613</td>\n",
       "      <td>0.08758</td>\n",
       "    </tr>\n",
       "    <tr>\n",
       "      <th>3</th>\n",
       "      <td>1</td>\n",
       "      <td>11.42</td>\n",
       "      <td>20.38</td>\n",
       "      <td>77.58</td>\n",
       "      <td>386.1</td>\n",
       "      <td>0.14250</td>\n",
       "      <td>0.28390</td>\n",
       "      <td>0.2414</td>\n",
       "      <td>0.10520</td>\n",
       "      <td>0.2597</td>\n",
       "      <td>...</td>\n",
       "      <td>14.91</td>\n",
       "      <td>26.50</td>\n",
       "      <td>98.87</td>\n",
       "      <td>567.7</td>\n",
       "      <td>0.2098</td>\n",
       "      <td>0.8663</td>\n",
       "      <td>0.6869</td>\n",
       "      <td>0.2575</td>\n",
       "      <td>0.6638</td>\n",
       "      <td>0.17300</td>\n",
       "    </tr>\n",
       "    <tr>\n",
       "      <th>4</th>\n",
       "      <td>1</td>\n",
       "      <td>20.29</td>\n",
       "      <td>14.34</td>\n",
       "      <td>135.10</td>\n",
       "      <td>1297.0</td>\n",
       "      <td>0.10030</td>\n",
       "      <td>0.13280</td>\n",
       "      <td>0.1980</td>\n",
       "      <td>0.10430</td>\n",
       "      <td>0.1809</td>\n",
       "      <td>...</td>\n",
       "      <td>22.54</td>\n",
       "      <td>16.67</td>\n",
       "      <td>152.20</td>\n",
       "      <td>1575.0</td>\n",
       "      <td>0.1374</td>\n",
       "      <td>0.2050</td>\n",
       "      <td>0.4000</td>\n",
       "      <td>0.1625</td>\n",
       "      <td>0.2364</td>\n",
       "      <td>0.07678</td>\n",
       "    </tr>\n",
       "  </tbody>\n",
       "</table>\n",
       "<p>5 rows × 28 columns</p>\n",
       "</div>"
      ],
      "text/plain": [
       "   Diagnosis  Mean Radius  Mean Texture  Mean Perimeter  Mean Area  \\\n",
       "0          1        17.99         10.38          122.80     1001.0   \n",
       "1          1        20.57         17.77          132.90     1326.0   \n",
       "2          1        19.69         21.25          130.00     1203.0   \n",
       "3          1        11.42         20.38           77.58      386.1   \n",
       "4          1        20.29         14.34          135.10     1297.0   \n",
       "\n",
       "   Mean Smoothness  Mean Compactness  Mean Concavity  Mean Concave Points  \\\n",
       "0          0.11840           0.27760          0.3001              0.14710   \n",
       "1          0.08474           0.07864          0.0869              0.07017   \n",
       "2          0.10960           0.15990          0.1974              0.12790   \n",
       "3          0.14250           0.28390          0.2414              0.10520   \n",
       "4          0.10030           0.13280          0.1980              0.10430   \n",
       "\n",
       "   Mean Symmetry  ...  Worst Radius  Worst Texture  Worst Perimeter  \\\n",
       "0         0.2419  ...         25.38          17.33           184.60   \n",
       "1         0.1812  ...         24.99          23.41           158.80   \n",
       "2         0.2069  ...         23.57          25.53           152.50   \n",
       "3         0.2597  ...         14.91          26.50            98.87   \n",
       "4         0.1809  ...         22.54          16.67           152.20   \n",
       "\n",
       "   Worst Area  Worst Smoothness  Worst Compactness  Worst Concavity  \\\n",
       "0      2019.0            0.1622             0.6656           0.7119   \n",
       "1      1956.0            0.1238             0.1866           0.2416   \n",
       "2      1709.0            0.1444             0.4245           0.4504   \n",
       "3       567.7            0.2098             0.8663           0.6869   \n",
       "4      1575.0            0.1374             0.2050           0.4000   \n",
       "\n",
       "   Worst Concave Points  Worst Symmetry  Worst Fractal dimension  \n",
       "0                0.2654          0.4601                  0.11890  \n",
       "1                0.1860          0.2750                  0.08902  \n",
       "2                0.2430          0.3613                  0.08758  \n",
       "3                0.2575          0.6638                  0.17300  \n",
       "4                0.1625          0.2364                  0.07678  \n",
       "\n",
       "[5 rows x 28 columns]"
      ]
     },
     "execution_count": 72,
     "metadata": {},
     "output_type": "execute_result"
    }
   ],
   "source": [
    "data.head()"
   ]
  },
  {
   "cell_type": "markdown",
   "metadata": {},
   "source": [
    "Kako bismo pokušali poboljšati rezultate klasifikacije, napravit ćemo nekoliko vrsta normalizacije značajki i usporediti točnosti modela."
   ]
  },
  {
   "cell_type": "code",
   "execution_count": 278,
   "metadata": {},
   "outputs": [],
   "source": [
    "def klasificiraj(train_test_data, algo):\n",
    "    X_train, X_test, y_train, y_test = train_test_data\n",
    "    model = algo()   \n",
    "    model.fit(X_train, y_train)\n",
    "\n",
    "    y_pred_train = model.predict(np.ascontiguousarray(X_train))\n",
    "    y_pred_test = model.predict(np.ascontiguousarray(X_test))\n",
    "\n",
    "    accuracy = accuracy_score(y_pred_train,y_train)\n",
    "    print(f'Training Accuracy: {round(accuracy*100, 1)}%')\n",
    "\n",
    "    accuracy = accuracy_score(y_pred_test,y_test)\n",
    "    print(f'Testing Accuracy: {round(accuracy*100, 1)}%')"
   ]
  },
  {
   "cell_type": "markdown",
   "metadata": {},
   "source": [
    "## Normalizacija min-max"
   ]
  },
  {
   "cell_type": "code",
   "execution_count": 279,
   "metadata": {},
   "outputs": [],
   "source": [
    "df = data.copy()\n",
    "columns_to_normalize = df.columns.difference(['diagnosis'])\n",
    "df_normalized = df.copy()\n",
    "df_normalized[columns_to_normalize] = (df[columns_to_normalize] - df[columns_to_normalize].min()) / (df[columns_to_normalize].max() - df[columns_to_normalize].min())\n"
   ]
  },
  {
   "cell_type": "markdown",
   "metadata": {},
   "source": [
    "Setovi za treniranje i testiranje normaliziranih podataka."
   ]
  },
  {
   "cell_type": "code",
   "execution_count": 280,
   "metadata": {},
   "outputs": [],
   "source": [
    "X = df_normalized.loc[:, df_normalized.columns != 'Diagnosis']\n",
    "y = df_normalized.loc[:, 'Diagnosis']\n",
    "\n",
    "train_test_data = train_test_split(X, y, test_size=0.25, random_state=42)"
   ]
  },
  {
   "cell_type": "markdown",
   "metadata": {},
   "source": [
    "### Logistička regresija"
   ]
  },
  {
   "cell_type": "code",
   "execution_count": 281,
   "metadata": {},
   "outputs": [
    {
     "name": "stdout",
     "output_type": "stream",
     "text": [
      "Training Accuracy: 96.7%\n",
      "Testing Accuracy: 98.6%\n"
     ]
    }
   ],
   "source": [
    "log_reg = lambda: LogisticRegression(max_iter=3000, random_state=42)\n",
    "klasificiraj(train_test_data, log_reg)"
   ]
  },
  {
   "cell_type": "markdown",
   "metadata": {},
   "source": [
    "### Metoda potpornih vektora"
   ]
  },
  {
   "cell_type": "code",
   "execution_count": 282,
   "metadata": {},
   "outputs": [
    {
     "name": "stdout",
     "output_type": "stream",
     "text": [
      "Training Accuracy: 97.4%\n",
      "Testing Accuracy: 98.6%\n"
     ]
    }
   ],
   "source": [
    "svm = lambda: SVC(kernel=\"linear\", random_state=42)\n",
    "klasificiraj(train_test_data, svm)"
   ]
  },
  {
   "cell_type": "markdown",
   "metadata": {},
   "source": [
    "### Random Forest"
   ]
  },
  {
   "cell_type": "code",
   "execution_count": 283,
   "metadata": {},
   "outputs": [
    {
     "name": "stdout",
     "output_type": "stream",
     "text": [
      "Training Accuracy: 100.0%\n",
      "Testing Accuracy: 96.5%\n"
     ]
    }
   ],
   "source": [
    "rnd_forest = lambda: RandomForestClassifier(random_state=42)\n",
    "klasificiraj(train_test_data, rnd_forest)"
   ]
  },
  {
   "cell_type": "markdown",
   "metadata": {},
   "source": [
    "### Naive Bayes"
   ]
  },
  {
   "cell_type": "code",
   "execution_count": 284,
   "metadata": {},
   "outputs": [
    {
     "name": "stdout",
     "output_type": "stream",
     "text": [
      "Training Accuracy: 93.7%\n",
      "Testing Accuracy: 95.1%\n"
     ]
    }
   ],
   "source": [
    "bayes = lambda: GaussianNB()\n",
    "klasificiraj(train_test_data, bayes)"
   ]
  },
  {
   "cell_type": "markdown",
   "metadata": {},
   "source": [
    "### Stablo odluke"
   ]
  },
  {
   "cell_type": "code",
   "execution_count": 285,
   "metadata": {},
   "outputs": [
    {
     "name": "stdout",
     "output_type": "stream",
     "text": [
      "Training Accuracy: 100.0%\n",
      "Testing Accuracy: 95.1%\n"
     ]
    }
   ],
   "source": [
    "dec_tree = lambda: DecisionTreeClassifier(random_state=42)\n",
    "klasificiraj(train_test_data, dec_tree)"
   ]
  },
  {
   "cell_type": "markdown",
   "metadata": {},
   "source": [
    "### Algoritam k-najbližih susjeda"
   ]
  },
  {
   "cell_type": "code",
   "execution_count": 286,
   "metadata": {},
   "outputs": [
    {
     "name": "stdout",
     "output_type": "stream",
     "text": [
      "Training Accuracy: 98.1%\n",
      "Testing Accuracy: 97.2%\n"
     ]
    }
   ],
   "source": [
    "knn = lambda: KNeighborsClassifier(n_neighbors=3)\n",
    "klasificiraj(train_test_data, knn)"
   ]
  },
  {
   "cell_type": "markdown",
   "metadata": {},
   "source": [
    "## Normalizacija z-vrijednosti"
   ]
  },
  {
   "cell_type": "code",
   "execution_count": 287,
   "metadata": {},
   "outputs": [],
   "source": [
    "df = data.copy()\n",
    "columns_to_standardize = data.columns.difference(['diagnosis'])\n",
    "df_standardized = df.copy()\n",
    "df_standardized[columns_to_standardize] = (df[columns_to_standardize] - df[columns_to_standardize].mean()) / df[columns_to_standardize].std()\n",
    "\n",
    "X = df_standardized.loc[:, df_standardized.columns != 'Diagnosis']\n",
    "y = df.loc[:, 'Diagnosis']\n",
    "\n",
    "train_test_data = train_test_split(X, y, test_size=0.25, random_state=42)"
   ]
  },
  {
   "cell_type": "markdown",
   "metadata": {},
   "source": [
    "### Logistička regresija"
   ]
  },
  {
   "cell_type": "code",
   "execution_count": 288,
   "metadata": {},
   "outputs": [
    {
     "name": "stdout",
     "output_type": "stream",
     "text": [
      "Training Accuracy: 98.8%\n",
      "Testing Accuracy: 97.9%\n"
     ]
    }
   ],
   "source": [
    "log_reg = lambda: LogisticRegression(max_iter=3000, random_state=42)\n",
    "klasificiraj(train_test_data, log_reg)"
   ]
  },
  {
   "cell_type": "markdown",
   "metadata": {},
   "source": [
    "### Metoda potpornih vektora"
   ]
  },
  {
   "cell_type": "code",
   "execution_count": 289,
   "metadata": {},
   "outputs": [
    {
     "name": "stdout",
     "output_type": "stream",
     "text": [
      "Training Accuracy: 98.8%\n",
      "Testing Accuracy: 97.2%\n"
     ]
    }
   ],
   "source": [
    "svm = lambda: SVC(kernel=\"linear\", random_state=42)\n",
    "klasificiraj(train_test_data, svm)"
   ]
  },
  {
   "cell_type": "markdown",
   "metadata": {},
   "source": [
    "### Random Forest"
   ]
  },
  {
   "cell_type": "code",
   "execution_count": 290,
   "metadata": {},
   "outputs": [
    {
     "name": "stdout",
     "output_type": "stream",
     "text": [
      "Training Accuracy: 100.0%\n",
      "Testing Accuracy: 96.5%\n"
     ]
    }
   ],
   "source": [
    "rnd_forest = lambda: RandomForestClassifier(random_state=42)\n",
    "klasificiraj(train_test_data, rnd_forest)"
   ]
  },
  {
   "cell_type": "markdown",
   "metadata": {},
   "source": [
    "### Naive Bayes"
   ]
  },
  {
   "cell_type": "code",
   "execution_count": 291,
   "metadata": {},
   "outputs": [
    {
     "name": "stdout",
     "output_type": "stream",
     "text": [
      "Training Accuracy: 93.7%\n",
      "Testing Accuracy: 95.1%\n"
     ]
    }
   ],
   "source": [
    "bayes = lambda: GaussianNB()\n",
    "klasificiraj(train_test_data, bayes)"
   ]
  },
  {
   "cell_type": "markdown",
   "metadata": {},
   "source": [
    "### Stablo odluke"
   ]
  },
  {
   "cell_type": "code",
   "execution_count": 292,
   "metadata": {},
   "outputs": [
    {
     "name": "stdout",
     "output_type": "stream",
     "text": [
      "Training Accuracy: 100.0%\n",
      "Testing Accuracy: 95.1%\n"
     ]
    }
   ],
   "source": [
    "dec_tree = lambda: DecisionTreeClassifier(random_state=42)\n",
    "klasificiraj(train_test_data, dec_tree)"
   ]
  },
  {
   "cell_type": "markdown",
   "metadata": {},
   "source": [
    "### Algoritam k-najbližih susjeda"
   ]
  },
  {
   "cell_type": "code",
   "execution_count": 293,
   "metadata": {},
   "outputs": [
    {
     "name": "stdout",
     "output_type": "stream",
     "text": [
      "Training Accuracy: 98.6%\n",
      "Testing Accuracy: 96.5%\n"
     ]
    }
   ],
   "source": [
    "knn = lambda: KNeighborsClassifier(n_neighbors=3)\n",
    "klasificiraj(train_test_data, knn)"
   ]
  },
  {
   "cell_type": "markdown",
   "metadata": {},
   "source": [
    "## Rekurzivna eliminacija značajki (logistička regresija kao model, 15 značajki)"
   ]
  },
  {
   "cell_type": "markdown",
   "metadata": {},
   "source": [
    "Pokušat ćemo poboljšati rezultate i pomoću rekurzivne eliminacije značajki koja spada u poluautomatizirane postupke inženjersta značajki. S obzirom da ova metoda treba model prema kojem će izabirati značajke, probat ćemo s logističkom regresijom."
   ]
  },
  {
   "cell_type": "code",
   "execution_count": 294,
   "metadata": {},
   "outputs": [
    {
     "name": "stdout",
     "output_type": "stream",
     "text": [
      "Odabrane značajke: Index(['Mean Radius', 'Mean Smoothness', 'Mean Compactness', 'Mean Concavity',\n",
      "       'Mean Concave Points', 'Mean Symmetry', 'Perimeter SE', 'Worst Radius',\n",
      "       'Worst Texture', 'Worst Perimeter', 'Worst Smoothness',\n",
      "       'Worst Compactness', 'Worst Concavity', 'Worst Concave Points',\n",
      "       'Worst Symmetry'],\n",
      "      dtype='object')\n"
     ]
    }
   ],
   "source": [
    "from sklearn.feature_selection import RFE\n",
    "\n",
    "X = df.loc[:, df.columns != 'Diagnosis']\n",
    "y = df.loc[:, 'Diagnosis']\n",
    "X_train, X_test, y_train, y_test = train_test_split(X, y, test_size=0.25, random_state=42)\n",
    "\n",
    "num_features_to_select = 15\n",
    "model_for_rfe = LogisticRegression(max_iter=2500) \n",
    "rfe = RFE(estimator=model_for_rfe, n_features_to_select=num_features_to_select)\n",
    "\n",
    "rfe.fit(X_train, y_train)\n",
    "\n",
    "selected_features = X.columns[rfe.support_]\n",
    "print(\"Odabrane značajke:\", selected_features)\n",
    "X_train_selected = rfe.transform(X_train)\n",
    "X_test_selected = rfe.transform(X_test)\n",
    "\n",
    "train_test_data = X_train_selected, X_test_selected, y_train, y_test"
   ]
  },
  {
   "cell_type": "markdown",
   "metadata": {},
   "source": [
    "### Logistička regresija"
   ]
  },
  {
   "cell_type": "code",
   "execution_count": 295,
   "metadata": {},
   "outputs": [
    {
     "name": "stdout",
     "output_type": "stream",
     "text": [
      "Training Accuracy: 95.3%\n",
      "Testing Accuracy: 97.2%\n"
     ]
    }
   ],
   "source": [
    "log_reg = lambda: LogisticRegression(max_iter=3000, random_state=42)\n",
    "klasificiraj(train_test_data, log_reg)"
   ]
  },
  {
   "cell_type": "markdown",
   "metadata": {},
   "source": [
    "### Metoda potpornih vektora"
   ]
  },
  {
   "cell_type": "code",
   "execution_count": 296,
   "metadata": {},
   "outputs": [
    {
     "name": "stdout",
     "output_type": "stream",
     "text": [
      "Training Accuracy: 96.2%\n",
      "Testing Accuracy: 97.2%\n"
     ]
    }
   ],
   "source": [
    "svm = lambda: SVC(kernel=\"linear\", random_state=42)\n",
    "klasificiraj(train_test_data, svm)"
   ]
  },
  {
   "cell_type": "markdown",
   "metadata": {},
   "source": [
    "### Random Forest"
   ]
  },
  {
   "cell_type": "code",
   "execution_count": 297,
   "metadata": {},
   "outputs": [
    {
     "name": "stdout",
     "output_type": "stream",
     "text": [
      "Training Accuracy: 100.0%\n",
      "Testing Accuracy: 96.5%\n"
     ]
    }
   ],
   "source": [
    "rnd_forest = lambda: RandomForestClassifier(random_state=42)\n",
    "klasificiraj(train_test_data, rnd_forest)"
   ]
  },
  {
   "cell_type": "markdown",
   "metadata": {},
   "source": [
    "### Naive Bayes"
   ]
  },
  {
   "cell_type": "code",
   "execution_count": 298,
   "metadata": {},
   "outputs": [
    {
     "name": "stdout",
     "output_type": "stream",
     "text": [
      "Training Accuracy: 93.2%\n",
      "Testing Accuracy: 94.4%\n"
     ]
    }
   ],
   "source": [
    "bayes = lambda: GaussianNB()\n",
    "klasificiraj(train_test_data, bayes)"
   ]
  },
  {
   "cell_type": "markdown",
   "metadata": {},
   "source": [
    "### Stablo odluke"
   ]
  },
  {
   "cell_type": "code",
   "execution_count": 299,
   "metadata": {},
   "outputs": [
    {
     "name": "stdout",
     "output_type": "stream",
     "text": [
      "Training Accuracy: 100.0%\n",
      "Testing Accuracy: 93.0%\n"
     ]
    }
   ],
   "source": [
    "dec_tree = lambda: DecisionTreeClassifier(random_state=42)\n",
    "klasificiraj(train_test_data, dec_tree)"
   ]
  },
  {
   "cell_type": "markdown",
   "metadata": {},
   "source": [
    "### Algoritam k-najbližih susjeda"
   ]
  },
  {
   "cell_type": "code",
   "execution_count": 300,
   "metadata": {},
   "outputs": [
    {
     "name": "stdout",
     "output_type": "stream",
     "text": [
      "Training Accuracy: 95.5%\n",
      "Testing Accuracy: 95.8%\n"
     ]
    }
   ],
   "source": [
    "knn = lambda: KNeighborsClassifier(n_neighbors=3)\n",
    "klasificiraj(train_test_data, knn)"
   ]
  },
  {
   "cell_type": "markdown",
   "metadata": {},
   "source": [
    "## Rekurzivna eliminacija značajki (SVM kao model, 15 značajki)"
   ]
  },
  {
   "cell_type": "code",
   "execution_count": 301,
   "metadata": {},
   "outputs": [
    {
     "name": "stdout",
     "output_type": "stream",
     "text": [
      "Odabrane značajke: Index(['Mean Radius', 'Mean Smoothness', 'Mean Compactness', 'Mean Concavity',\n",
      "       'Mean Concave Points', 'Mean Symmetry', 'Radius SE', 'Worst Radius',\n",
      "       'Worst Texture', 'Worst Smoothness', 'Worst Compactness',\n",
      "       'Worst Concavity', 'Worst Concave Points', 'Worst Symmetry',\n",
      "       'Worst Fractal dimension'],\n",
      "      dtype='object')\n"
     ]
    }
   ],
   "source": [
    "X = df.loc[:, df.columns != 'Diagnosis']\n",
    "y = df.loc[:, 'Diagnosis']\n",
    "X_train, X_test, y_train, y_test = train_test_split(X, y, test_size=0.25, random_state=42)\n",
    "\n",
    "num_features_to_select = 15\n",
    "model_for_rfe = SVC(kernel='linear')\n",
    "rfe = RFE(estimator=model_for_rfe, n_features_to_select=num_features_to_select)\n",
    "\n",
    "rfe.fit(X_train, y_train)\n",
    "\n",
    "selected_features = X.columns[rfe.support_]\n",
    "print(\"Odabrane značajke:\", selected_features)\n",
    "X_train_selected = rfe.transform(X_train)\n",
    "X_test_selected = rfe.transform(X_test)\n",
    "\n",
    "train_test_data = X_train_selected, X_test_selected, y_train, y_test"
   ]
  },
  {
   "cell_type": "markdown",
   "metadata": {},
   "source": [
    "### Logistička regresija"
   ]
  },
  {
   "cell_type": "code",
   "execution_count": 302,
   "metadata": {},
   "outputs": [
    {
     "name": "stdout",
     "output_type": "stream",
     "text": [
      "Training Accuracy: 95.5%\n",
      "Testing Accuracy: 97.2%\n"
     ]
    }
   ],
   "source": [
    "log_reg = lambda: LogisticRegression(max_iter=3000, random_state=42)\n",
    "klasificiraj(train_test_data, log_reg)"
   ]
  },
  {
   "cell_type": "markdown",
   "metadata": {},
   "source": [
    "### Metoda potpornih vektora"
   ]
  },
  {
   "cell_type": "code",
   "execution_count": 303,
   "metadata": {},
   "outputs": [
    {
     "name": "stdout",
     "output_type": "stream",
     "text": [
      "Training Accuracy: 96.2%\n",
      "Testing Accuracy: 97.2%\n"
     ]
    }
   ],
   "source": [
    "svm = lambda: SVC(kernel=\"linear\", random_state=42)\n",
    "klasificiraj(train_test_data, svm)"
   ]
  },
  {
   "cell_type": "markdown",
   "metadata": {},
   "source": [
    "### Random Forest"
   ]
  },
  {
   "cell_type": "code",
   "execution_count": 304,
   "metadata": {},
   "outputs": [
    {
     "name": "stdout",
     "output_type": "stream",
     "text": [
      "Training Accuracy: 100.0%\n",
      "Testing Accuracy: 96.5%\n"
     ]
    }
   ],
   "source": [
    "rnd_forest = lambda: RandomForestClassifier(random_state=42)\n",
    "klasificiraj(train_test_data, rnd_forest)"
   ]
  },
  {
   "cell_type": "markdown",
   "metadata": {},
   "source": [
    "### Naive Bayes"
   ]
  },
  {
   "cell_type": "code",
   "execution_count": 305,
   "metadata": {},
   "outputs": [
    {
     "name": "stdout",
     "output_type": "stream",
     "text": [
      "Training Accuracy: 92.7%\n",
      "Testing Accuracy: 94.4%\n"
     ]
    }
   ],
   "source": [
    "bayes = lambda: GaussianNB()\n",
    "klasificiraj(train_test_data, bayes)"
   ]
  },
  {
   "cell_type": "markdown",
   "metadata": {},
   "source": [
    "### Stablo odluke"
   ]
  },
  {
   "cell_type": "code",
   "execution_count": 306,
   "metadata": {},
   "outputs": [
    {
     "name": "stdout",
     "output_type": "stream",
     "text": [
      "Training Accuracy: 100.0%\n",
      "Testing Accuracy: 93.0%\n"
     ]
    }
   ],
   "source": [
    "dec_tree = lambda: DecisionTreeClassifier(random_state=42)\n",
    "klasificiraj(train_test_data, dec_tree)"
   ]
  },
  {
   "cell_type": "markdown",
   "metadata": {},
   "source": [
    "### Algoritam k-najbližih susjeda"
   ]
  },
  {
   "cell_type": "code",
   "execution_count": 307,
   "metadata": {},
   "outputs": [
    {
     "name": "stdout",
     "output_type": "stream",
     "text": [
      "Training Accuracy: 95.3%\n",
      "Testing Accuracy: 93.0%\n"
     ]
    }
   ],
   "source": [
    "knn = lambda: KNeighborsClassifier(n_neighbors=3)\n",
    "klasificiraj(train_test_data, knn)"
   ]
  },
  {
   "cell_type": "markdown",
   "metadata": {},
   "source": [
    "## Rekurzivna eliminacija značajki (logistička regresija kao model, 8 značajki)"
   ]
  },
  {
   "cell_type": "code",
   "execution_count": 308,
   "metadata": {},
   "outputs": [
    {
     "name": "stdout",
     "output_type": "stream",
     "text": [
      "Odabrane značajke: Index(['Mean Radius', 'Mean Concavity', 'Perimeter SE', 'Worst Radius',\n",
      "       'Worst Compactness', 'Worst Concavity', 'Worst Concave Points',\n",
      "       'Worst Symmetry'],\n",
      "      dtype='object')\n"
     ]
    }
   ],
   "source": [
    "X = df.loc[:, df.columns != 'Diagnosis']\n",
    "y = df.loc[:, 'Diagnosis']\n",
    "X_train, X_test, y_train, y_test = train_test_split(X, y, test_size=0.25, random_state=42)\n",
    "\n",
    "\n",
    "\n",
    "num_features_to_select = 8\n",
    "model_for_rfe = LogisticRegression(max_iter=2500) \n",
    "rfe = RFE(estimator=model_for_rfe, n_features_to_select=num_features_to_select)\n",
    "\n",
    "rfe.fit(X_train, y_train)\n",
    "\n",
    "selected_features = X.columns[rfe.support_]\n",
    "print(\"Odabrane značajke:\", selected_features)\n",
    "X_train_selected = rfe.transform(X_train)\n",
    "X_test_selected = rfe.transform(X_test)\n",
    "\n",
    "train_test_data = X_train_selected, X_test_selected, y_train, y_test"
   ]
  },
  {
   "cell_type": "markdown",
   "metadata": {},
   "source": [
    "### Logistička regresija"
   ]
  },
  {
   "cell_type": "code",
   "execution_count": 309,
   "metadata": {},
   "outputs": [
    {
     "name": "stdout",
     "output_type": "stream",
     "text": [
      "Training Accuracy: 94.1%\n",
      "Testing Accuracy: 97.9%\n"
     ]
    }
   ],
   "source": [
    "log_reg = lambda: LogisticRegression(max_iter=3000, random_state=42)\n",
    "klasificiraj(train_test_data, log_reg)"
   ]
  },
  {
   "cell_type": "markdown",
   "metadata": {},
   "source": [
    "### Metoda potpornih vektora"
   ]
  },
  {
   "cell_type": "code",
   "execution_count": 310,
   "metadata": {},
   "outputs": [
    {
     "name": "stdout",
     "output_type": "stream",
     "text": [
      "Training Accuracy: 94.6%\n",
      "Testing Accuracy: 97.9%\n"
     ]
    }
   ],
   "source": [
    "svm = lambda: SVC(kernel=\"linear\", random_state=42)\n",
    "klasificiraj(train_test_data, svm)"
   ]
  },
  {
   "cell_type": "markdown",
   "metadata": {},
   "source": [
    "### Random Forest"
   ]
  },
  {
   "cell_type": "code",
   "execution_count": 311,
   "metadata": {},
   "outputs": [
    {
     "name": "stdout",
     "output_type": "stream",
     "text": [
      "Training Accuracy: 100.0%\n",
      "Testing Accuracy: 95.1%\n"
     ]
    }
   ],
   "source": [
    "rnd_forest = lambda: RandomForestClassifier(random_state=42)\n",
    "klasificiraj(train_test_data, rnd_forest)"
   ]
  },
  {
   "cell_type": "markdown",
   "metadata": {},
   "source": [
    "### Naive Bayes"
   ]
  },
  {
   "cell_type": "code",
   "execution_count": 312,
   "metadata": {},
   "outputs": [
    {
     "name": "stdout",
     "output_type": "stream",
     "text": [
      "Training Accuracy: 93.0%\n",
      "Testing Accuracy: 94.4%\n"
     ]
    }
   ],
   "source": [
    "bayes = lambda: GaussianNB()\n",
    "klasificiraj(train_test_data, bayes)"
   ]
  },
  {
   "cell_type": "markdown",
   "metadata": {},
   "source": [
    "### Stablo odluke"
   ]
  },
  {
   "cell_type": "code",
   "execution_count": 313,
   "metadata": {},
   "outputs": [
    {
     "name": "stdout",
     "output_type": "stream",
     "text": [
      "Training Accuracy: 100.0%\n",
      "Testing Accuracy: 93.0%\n"
     ]
    }
   ],
   "source": [
    "dec_tree = lambda: DecisionTreeClassifier(random_state=42)\n",
    "klasificiraj(train_test_data, dec_tree)"
   ]
  },
  {
   "cell_type": "markdown",
   "metadata": {},
   "source": [
    "### Algoritam k-najbližih susjeda"
   ]
  },
  {
   "cell_type": "code",
   "execution_count": 314,
   "metadata": {},
   "outputs": [
    {
     "name": "stdout",
     "output_type": "stream",
     "text": [
      "Training Accuracy: 96.7%\n",
      "Testing Accuracy: 95.8%\n"
     ]
    }
   ],
   "source": [
    "knn = lambda: KNeighborsClassifier(n_neighbors=3)\n",
    "klasificiraj(train_test_data, knn)"
   ]
  },
  {
   "cell_type": "markdown",
   "metadata": {},
   "source": [
    "## Analiza glavnih komponenata (PCA)"
   ]
  },
  {
   "cell_type": "code",
   "execution_count": 315,
   "metadata": {},
   "outputs": [],
   "source": [
    "from sklearn.decomposition import PCA\n",
    "\n",
    "scaler = StandardScaler()\n",
    "scaled_data = scaler.fit_transform(data.drop('Diagnosis', axis=1))\n",
    "\n",
    "pca = PCA(n_components=15)\n",
    "pca_result = pca.fit_transform(scaled_data)\n",
    "\n",
    "pca_df = pd.DataFrame(data=pca_result, columns=[f'Principal Component {i+1}' for i in range(15)])\n",
    "pca_df['Diagnosis'] = data['Diagnosis']\n",
    "\n",
    "X_train_pca, X_test_pca, y_train_pca, y_test_pca = train_test_split(pca_df.drop('Diagnosis', axis=1), pca_df['Diagnosis'], test_size=0.2, random_state=42)\n",
    "\n",
    "train_test_data = X_train_pca, X_test_pca, y_train_pca, y_test_pca"
   ]
  },
  {
   "cell_type": "markdown",
   "metadata": {},
   "source": [
    "### Logistička regresija"
   ]
  },
  {
   "cell_type": "code",
   "execution_count": 316,
   "metadata": {},
   "outputs": [
    {
     "name": "stdout",
     "output_type": "stream",
     "text": [
      "Training Accuracy: 98.9%\n",
      "Testing Accuracy: 97.4%\n"
     ]
    }
   ],
   "source": [
    "log_reg = lambda: LogisticRegression(max_iter=3000, random_state=42)\n",
    "klasificiraj(train_test_data, log_reg)"
   ]
  },
  {
   "cell_type": "markdown",
   "metadata": {},
   "source": [
    "### Metoda potpornih vektora"
   ]
  },
  {
   "cell_type": "code",
   "execution_count": 317,
   "metadata": {},
   "outputs": [
    {
     "name": "stdout",
     "output_type": "stream",
     "text": [
      "Training Accuracy: 98.5%\n",
      "Testing Accuracy: 98.2%\n"
     ]
    }
   ],
   "source": [
    "svm = lambda: SVC(kernel=\"linear\", random_state=42)\n",
    "klasificiraj(train_test_data, svm)"
   ]
  },
  {
   "cell_type": "markdown",
   "metadata": {},
   "source": [
    "### Random Forest"
   ]
  },
  {
   "cell_type": "code",
   "execution_count": 318,
   "metadata": {},
   "outputs": [
    {
     "name": "stdout",
     "output_type": "stream",
     "text": [
      "Training Accuracy: 100.0%\n",
      "Testing Accuracy: 94.7%\n"
     ]
    }
   ],
   "source": [
    "rnd_forest = lambda: RandomForestClassifier(random_state=42)\n",
    "klasificiraj(train_test_data, rnd_forest)"
   ]
  },
  {
   "cell_type": "markdown",
   "metadata": {},
   "source": [
    "### Naive Bayes"
   ]
  },
  {
   "cell_type": "code",
   "execution_count": 319,
   "metadata": {},
   "outputs": [
    {
     "name": "stdout",
     "output_type": "stream",
     "text": [
      "Training Accuracy: 89.7%\n",
      "Testing Accuracy: 90.4%\n"
     ]
    }
   ],
   "source": [
    "bayes = lambda: GaussianNB()\n",
    "klasificiraj(train_test_data, bayes)"
   ]
  },
  {
   "cell_type": "markdown",
   "metadata": {},
   "source": [
    "### Stablo odluke"
   ]
  },
  {
   "cell_type": "code",
   "execution_count": 320,
   "metadata": {},
   "outputs": [
    {
     "name": "stdout",
     "output_type": "stream",
     "text": [
      "Training Accuracy: 100.0%\n",
      "Testing Accuracy: 92.1%\n"
     ]
    }
   ],
   "source": [
    "dec_tree = lambda: DecisionTreeClassifier(random_state=42)\n",
    "klasificiraj(train_test_data, dec_tree)"
   ]
  },
  {
   "cell_type": "markdown",
   "metadata": {},
   "source": [
    "### Algoritam k-najbližih susjeda"
   ]
  },
  {
   "cell_type": "code",
   "execution_count": 321,
   "metadata": {},
   "outputs": [
    {
     "name": "stdout",
     "output_type": "stream",
     "text": [
      "Training Accuracy: 98.7%\n",
      "Testing Accuracy: 95.6%\n"
     ]
    }
   ],
   "source": [
    "knn = lambda: KNeighborsClassifier(n_neighbors=3)\n",
    "klasificiraj(train_test_data, knn)"
   ]
  },
  {
   "cell_type": "markdown",
   "metadata": {},
   "source": [
    "## Rekurzivna eliminacija značajki (logistička regresija kao model, 15 značajki) sa Min-Max normalizacijom"
   ]
  },
  {
   "cell_type": "code",
   "execution_count": 322,
   "metadata": {},
   "outputs": [
    {
     "name": "stdout",
     "output_type": "stream",
     "text": [
      "Odabrane značajke: Index(['Mean Radius', 'Mean Texture', 'Mean Perimeter', 'Mean Area',\n",
      "       'Mean Concavity', 'Mean Concave Points', 'Radius SE', 'Worst Radius',\n",
      "       'Worst Texture', 'Worst Perimeter', 'Worst Area', 'Worst Smoothness',\n",
      "       'Worst Concavity', 'Worst Concave Points', 'Worst Symmetry'],\n",
      "      dtype='object')\n"
     ]
    }
   ],
   "source": [
    "df = data.copy()\n",
    "columns_to_normalize = df.columns.difference(['Diagnosis'])\n",
    "df_normalized = df.copy()\n",
    "df_normalized[columns_to_normalize] = (df[columns_to_normalize] - df[columns_to_normalize].min()) / (df[columns_to_normalize].max() - df[columns_to_normalize].min())\n",
    "\n",
    "X = df_normalized.loc[:, df_normalized.columns != 'Diagnosis']\n",
    "y = df_normalized.loc[:, 'Diagnosis']\n",
    "X_train, X_test, y_train, y_test = train_test_split(X, y, test_size=0.25, random_state=42)\n",
    "\n",
    "num_features_to_select = 15\n",
    "model_for_rfe = LogisticRegression(max_iter=2500) \n",
    "rfe = RFE(estimator=model_for_rfe, n_features_to_select=num_features_to_select)\n",
    "\n",
    "rfe.fit(X_train, y_train)\n",
    "\n",
    "selected_features = X.columns[rfe.support_]\n",
    "print(\"Odabrane značajke:\", selected_features)\n",
    "X_train_selected = rfe.transform(X_train)\n",
    "X_test_selected = rfe.transform(X_test)\n",
    "\n",
    "train_test_data = X_train_selected, X_test_selected, y_train, y_test"
   ]
  },
  {
   "cell_type": "markdown",
   "metadata": {},
   "source": [
    "### Logistička regresija"
   ]
  },
  {
   "cell_type": "code",
   "execution_count": 323,
   "metadata": {},
   "outputs": [
    {
     "name": "stdout",
     "output_type": "stream",
     "text": [
      "Training Accuracy: 96.2%\n",
      "Testing Accuracy: 97.9%\n"
     ]
    }
   ],
   "source": [
    "log_reg = lambda: LogisticRegression(max_iter=3000, random_state=42)\n",
    "klasificiraj(train_test_data, log_reg)"
   ]
  },
  {
   "cell_type": "markdown",
   "metadata": {},
   "source": [
    "### Metoda potpornih vektora"
   ]
  },
  {
   "cell_type": "code",
   "execution_count": 324,
   "metadata": {},
   "outputs": [
    {
     "name": "stdout",
     "output_type": "stream",
     "text": [
      "Training Accuracy: 97.7%\n",
      "Testing Accuracy: 97.9%\n"
     ]
    }
   ],
   "source": [
    "svm = lambda: SVC(kernel=\"linear\", random_state=42)\n",
    "klasificiraj(train_test_data, svm)"
   ]
  },
  {
   "cell_type": "markdown",
   "metadata": {},
   "source": [
    "### Random Forest"
   ]
  },
  {
   "cell_type": "code",
   "execution_count": 325,
   "metadata": {},
   "outputs": [
    {
     "name": "stdout",
     "output_type": "stream",
     "text": [
      "Training Accuracy: 100.0%\n",
      "Testing Accuracy: 96.5%\n"
     ]
    }
   ],
   "source": [
    "rnd_forest = lambda: RandomForestClassifier(random_state=42)\n",
    "klasificiraj(train_test_data, rnd_forest)"
   ]
  },
  {
   "cell_type": "markdown",
   "metadata": {},
   "source": [
    "### Naive Bayes"
   ]
  },
  {
   "cell_type": "code",
   "execution_count": 326,
   "metadata": {},
   "outputs": [
    {
     "name": "stdout",
     "output_type": "stream",
     "text": [
      "Training Accuracy: 95.3%\n",
      "Testing Accuracy: 95.8%\n"
     ]
    }
   ],
   "source": [
    "bayes = lambda: GaussianNB()\n",
    "klasificiraj(train_test_data, bayes)"
   ]
  },
  {
   "cell_type": "markdown",
   "metadata": {},
   "source": [
    "### Stablo odluke"
   ]
  },
  {
   "cell_type": "code",
   "execution_count": 327,
   "metadata": {},
   "outputs": [
    {
     "name": "stdout",
     "output_type": "stream",
     "text": [
      "Training Accuracy: 100.0%\n",
      "Testing Accuracy: 93.7%\n"
     ]
    }
   ],
   "source": [
    "dec_tree = lambda: DecisionTreeClassifier(random_state=42)\n",
    "klasificiraj(train_test_data, dec_tree)"
   ]
  },
  {
   "cell_type": "markdown",
   "metadata": {},
   "source": [
    "### Algoritam k-najbližih susjeda"
   ]
  },
  {
   "cell_type": "code",
   "execution_count": 328,
   "metadata": {},
   "outputs": [
    {
     "name": "stdout",
     "output_type": "stream",
     "text": [
      "Training Accuracy: 97.7%\n",
      "Testing Accuracy: 96.5%\n"
     ]
    }
   ],
   "source": [
    "knn = lambda: KNeighborsClassifier(n_neighbors=3)\n",
    "klasificiraj(train_test_data, knn)"
   ]
  },
  {
   "cell_type": "markdown",
   "metadata": {},
   "source": [
    "# Diskusija rezultata"
   ]
  },
  {
   "cell_type": "markdown",
   "metadata": {},
   "source": [
    "Prisjetimo se rezultata iz članka za svaki od korištenih algoritama."
   ]
  },
  {
   "cell_type": "code",
   "execution_count": 329,
   "metadata": {},
   "outputs": [
    {
     "name": "stdout",
     "output_type": "stream",
     "text": [
      "             Algoritam Train_Accuracy Test_Accuracy\n",
      "0  Logistic Regression          99.1%         94.4%\n",
      "1                  SVM          98.8%         96.5%\n",
      "2        Random Forest          99.5%         96.5%\n",
      "3          Naive Bayes          95.1%         92.3%\n",
      "4        Decision Tree         100.0%         95.1%\n",
      "5                  KNN          97.6%         95.8%\n"
     ]
    }
   ],
   "source": [
    "rezultati_clanka = {\n",
    "    'Algoritam': ['Logistic Regression', 'SVM', 'Random Forest', 'Naive Bayes', 'Decision Tree', 'KNN'],\n",
    "    'Train_Accuracy': ['99.1%', '98.8%', '99.5%', '95.1%', '100.0%', '97.6%'],\n",
    "    'Test_Accuracy': ['94.4%', '96.5%', '96.5%', '92.3%', '95.1%', '95.8%']\n",
    "}\n",
    "print(pd.DataFrame(rezultati_clanka))"
   ]
  },
  {
   "cell_type": "markdown",
   "metadata": {},
   "source": [
    "Metodom min-max normalizacije dobivamo testing accuracy veći ili jednak onome iz članka."
   ]
  },
  {
   "cell_type": "code",
   "execution_count": 330,
   "metadata": {},
   "outputs": [
    {
     "name": "stdout",
     "output_type": "stream",
     "text": [
      "             Algoritam Train_Accuracy Train_Članak Test_Accuracy Test_Članak\n",
      "0  Logistic Regression          96.7%        99.1%         98.6%       94.4%\n",
      "1                  SVM          97.4%        98.8%         98.6%       96.5%\n",
      "2        Random Forest         100.0%        99.5%         96.5%       96.5%\n",
      "3          Naive Bayes          93.7%        95.1%         95.1%       92.3%\n",
      "4        Decision Tree         100.0%       100.0%         95.1%       95.1%\n",
      "5                  KNN          98.1%        97.6%         97.2%       95.8%\n"
     ]
    }
   ],
   "source": [
    "minmax = {\n",
    "    'Algoritam': ['Logistic Regression', 'SVM', 'Random Forest', 'Naive Bayes', 'Decision Tree', 'KNN'],\n",
    "    'Train_Accuracy': ['96.7%', '97.4%', '100.0%', '93.7%', '100.0%', '98.1%'],\n",
    "    'Train_Članak': ['99.1%', '98.8%', '99.5%', '95.1%', '100.0%', '97.6%'],\n",
    "    'Test_Accuracy': ['98.6%', '98.6%', '96.5%', '95.1%', '95.1%', '97.2%'],\n",
    "    'Test_Članak': ['94.4%', '96.5%', '96.5%', '92.3%', '95.1%', '95.8%']\n",
    "}\n",
    "print(pd.DataFrame(minmax))"
   ]
  },
  {
   "cell_type": "markdown",
   "metadata": {},
   "source": [
    "Metodom normalizacije z-vrijednosti tj. standardizacijom podataka dobivamo testing accuracy veći ili jednak onome iz članka. Za training accuracy standardizacija daje bolje rezultate od min-max normalizacije."
   ]
  },
  {
   "cell_type": "code",
   "execution_count": 331,
   "metadata": {},
   "outputs": [
    {
     "name": "stdout",
     "output_type": "stream",
     "text": [
      "             Algoritam Train_Accuracy Train_Članak Test_Accuracy Test_Članak\n",
      "0  Logistic Regression          98.8%        99.1%         97.9%       94.4%\n",
      "1                  SVM          98.8%        98.8%         97.2%       96.5%\n",
      "2        Random Forest         100.0%        99.5%         96.5%       96.5%\n",
      "3          Naive Bayes          93.7%        95.1%         95.1%       92.3%\n",
      "4        Decision Tree         100.0%       100.0%         95.1%       95.1%\n",
      "5                  KNN          98.6%        97.6%         96.5%       95.8%\n"
     ]
    }
   ],
   "source": [
    "standardizacija = {\n",
    "    'Algoritam': ['Logistic Regression', 'SVM', 'Random Forest', 'Naive Bayes', 'Decision Tree', 'KNN'],\n",
    "    'Train_Accuracy': ['98.8%', '98.8%', '100.0%', '93.7%', '100.0%', '98.6%'],\n",
    "    'Train_Članak': ['99.1%', '98.8%', '99.5%', '95.1%', '100.0%', '97.6%'],\n",
    "    'Test_Accuracy': ['97.9%', '97.2%', '96.5%', '95.1%', '95.1%', '96.5%'],\n",
    "    'Test_Članak': ['94.4%', '96.5%', '96.5%', '92.3%', '95.1%', '95.8%']\n",
    "}\n",
    "print(pd.DataFrame(standardizacija))"
   ]
  },
  {
   "cell_type": "markdown",
   "metadata": {},
   "source": [
    "Rekurzivna eliminacija značajki uz logističku regresiju kao model i 15 odabranih značajki daje testing accuracy veći ili jednak onome iz članka, s iznimkom stabla odluke za koji smo dobili lošiji rezultat (naših 93.0%, njihovih 95.1%)"
   ]
  },
  {
   "cell_type": "code",
   "execution_count": 332,
   "metadata": {},
   "outputs": [
    {
     "name": "stdout",
     "output_type": "stream",
     "text": [
      "             Algoritam Train_Accuracy Train_Članak Test_Accuracy Test_Članak\n",
      "0  Logistic Regression          95.3%        99.1%         97.2%       94.4%\n",
      "1                  SVM          96.2%        98.8%         97.2%       96.5%\n",
      "2        Random Forest         100.0%        99.5%         96.5%       96.5%\n",
      "3          Naive Bayes          93.2%        95.1%         94.4%       92.3%\n",
      "4        Decision Tree         100.0%       100.0%         93.0%       95.1%\n",
      "5                  KNN          95.5%        97.6%         95.8%       95.8%\n"
     ]
    }
   ],
   "source": [
    "rfe_log_reg_15 = {\n",
    "    'Algoritam': ['Logistic Regression', 'SVM', 'Random Forest', 'Naive Bayes', 'Decision Tree', 'KNN'],\n",
    "    'Train_Accuracy': ['95.3%', '96.2%', '100.0%', '93.2%', '100.0%', '95.5%'],\n",
    "    'Train_Članak': ['99.1%', '98.8%', '99.5%', '95.1%', '100.0%', '97.6%'],\n",
    "    'Test_Accuracy': ['97.2%', '97.2%', '96.5%', '94.4%', '93.0%', '95.8%'],\n",
    "    'Test_Članak': ['94.4%', '96.5%', '96.5%', '92.3%', '95.1%', '95.8%']\n",
    "}\n",
    "print(pd.DataFrame(rfe_log_reg_15))"
   ]
  },
  {
   "cell_type": "markdown",
   "metadata": {},
   "source": [
    "Rekurzivna eliminacija značajki uz SVM kao model i 15 odabranih značajki daje veći ili jednak testing accuracy za LR, SVM, RF i Naive Bayes, dok za 2-3% lošiji rezultat dobivamo za KNN i stablo odluke."
   ]
  },
  {
   "cell_type": "code",
   "execution_count": 333,
   "metadata": {},
   "outputs": [
    {
     "name": "stdout",
     "output_type": "stream",
     "text": [
      "             Algoritam Train_Accuracy Train_Članak Test_Accuracy Test_Članak\n",
      "0  Logistic Regression          95.5%        99.1%         97.2%       94.4%\n",
      "1                  SVM          96.2%        98.8%         97.2%       96.5%\n",
      "2        Random Forest         100.0%        99.5%         96.5%       96.5%\n",
      "3          Naive Bayes          92.7%        95.1%         94.4%       92.3%\n",
      "4        Decision Tree         100.0%       100.0%         93.0%       95.1%\n",
      "5                  KNN          95.3%        97.6%         93.0%       95.8%\n"
     ]
    }
   ],
   "source": [
    "rfe_svm_15 = {\n",
    "    'Algoritam': ['Logistic Regression', 'SVM', 'Random Forest', 'Naive Bayes', 'Decision Tree', 'KNN'],\n",
    "    'Train_Accuracy': ['95.5%', '96.2%', '100.0%', '92.7%', '100.0%', '95.3%'],\n",
    "    'Train_Članak': ['99.1%', '98.8%', '99.5%', '95.1%', '100.0%', '97.6%'],\n",
    "    'Test_Accuracy': ['97.2%', '97.2%', '96.5%', '94.4%', '93.0%', '93.0%'],\n",
    "    'Test_Članak': ['94.4%', '96.5%', '96.5%', '92.3%', '95.1%', '95.8%']\n",
    "}\n",
    "print(pd.DataFrame(rfe_svm_15))"
   ]
  },
  {
   "cell_type": "markdown",
   "metadata": {},
   "source": [
    "Rekurzivna eliminacija značajki uz logističku regresiju kao model i 8 odabranih značajki daje bolji testing accuracy za LR, SVM, Naivni Bayes i KNN, dok je rezultat lošiji za Random Forest i stablo odluke. Metoda s 8 značajki većinom donosi malo bolji testing accuracy u odnosu na metodu s 15 značajki. Jedino za algoritam Random Forest metoda s 8 značajki daje lošiji rezultat (95.1%, u odnosu na 96.5% u modelu s 15 značajki)."
   ]
  },
  {
   "cell_type": "code",
   "execution_count": 334,
   "metadata": {},
   "outputs": [
    {
     "name": "stdout",
     "output_type": "stream",
     "text": [
      "             Algoritam Train_Accuracy Train_Članak Test_Accuracy Test_Članak\n",
      "0  Logistic Regression          94.1%        99.1%         97.9%       94.4%\n",
      "1                  SVM          94.6%        98.8%         97.9%       96.5%\n",
      "2        Random Forest         100.0%        99.5%         95.1%       96.5%\n",
      "3          Naive Bayes          93.0%        95.1%         94.4%       92.3%\n",
      "4        Decision Tree         100.0%       100.0%         93.0%       95.1%\n",
      "5                  KNN          96.7%        97.6%         95.8%       95.8%\n"
     ]
    }
   ],
   "source": [
    "rfe_log_reg_8 = {\n",
    "    'Algoritam': ['Logistic Regression', 'SVM', 'Random Forest', 'Naive Bayes', 'Decision Tree', 'KNN'],\n",
    "    'Train_Accuracy': ['94.1%', '94.6%', '100.0%', '93.0%', '100.0%', '96.7%'],\n",
    "    'Train_Članak': ['99.1%', '98.8%', '99.5%', '95.1%', '100.0%', '97.6%'],\n",
    "    'Test_Accuracy': ['97.9%', '97.9%', '95.1%', '94.4%', '93.0%', '95.8%'],\n",
    "    'Test_Članak': ['94.4%', '96.5%', '96.5%', '92.3%', '95.1%', '95.8%']\n",
    "}\n",
    "print(pd.DataFrame(rfe_log_reg_8))"
   ]
  },
  {
   "cell_type": "markdown",
   "metadata": {},
   "source": [
    "Analiza glavnih komponenata općenito daje bolji testing accuracy za LR i SVM, dok je za ostale algoritme rezultat lošiji od onog iz članka."
   ]
  },
  {
   "cell_type": "code",
   "execution_count": 335,
   "metadata": {},
   "outputs": [
    {
     "name": "stdout",
     "output_type": "stream",
     "text": [
      "             Algoritam Train_Accuracy Train_Članak Test_Accuracy Test_Članak\n",
      "0  Logistic Regression          98.9%        99.1%         97.4%       94.4%\n",
      "1                  SVM          98.5%        98.8%         98.2%       96.5%\n",
      "2        Random Forest         100.0%        99.5%         94.7%       96.5%\n",
      "3          Naive Bayes          89.7%        95.1%         90.4%       92.3%\n",
      "4        Decision Tree         100.0%       100.0%         92.1%       95.1%\n",
      "5                  KNN          98.7%        97.6%         95.6%       95.8%\n"
     ]
    }
   ],
   "source": [
    "pca = {\n",
    "    'Algoritam': ['Logistic Regression', 'SVM', 'Random Forest', 'Naive Bayes', 'Decision Tree', 'KNN'],\n",
    "    'Train_Accuracy': ['98.9%', '98.5%', '100.0%', '89.7%', '100.0%', '98.7%'],\n",
    "    'Train_Članak': ['99.1%', '98.8%', '99.5%', '95.1%', '100.0%', '97.6%'],\n",
    "    'Test_Accuracy': ['97.4%', '98.2%', '94.7%', '90.4%', '92.1%', '95.6%'],\n",
    "    'Test_Članak': ['94.4%', '96.5%', '96.5%', '92.3%', '95.1%', '95.8%']\n",
    "}\n",
    "print(pd.DataFrame(pca))"
   ]
  },
  {
   "cell_type": "markdown",
   "metadata": {},
   "source": [
    "Rekurzivna eliminacija značajki uz logističku regresiju kao model i 15 odabranih značajki s normalizacijom min-max uglavnom daje veći testing accuracy od onog iz članka, osim stabla odluke s kojim smo dobili manji testing accuracy."
   ]
  },
  {
   "cell_type": "code",
   "execution_count": 336,
   "metadata": {},
   "outputs": [
    {
     "name": "stdout",
     "output_type": "stream",
     "text": [
      "             Algoritam Train_Accuracy Train_Članak Test_Accuracy Test_Članak\n",
      "0  Logistic Regression          96.2%        99.1%         97.9%       94.4%\n",
      "1                  SVM          97.7%        98.8%         97.9%       96.5%\n",
      "2        Random Forest         100.0%        99.5%         96.5%       96.5%\n",
      "3          Naive Bayes          95.3%        95.1%         95.8%       92.3%\n",
      "4        Decision Tree         100.0%       100.0%         93.7%       95.1%\n",
      "5                  KNN          97.7%        97.6%         96.5%       95.8%\n"
     ]
    }
   ],
   "source": [
    "rfe_log_reg_15_minmax = {\n",
    "    'Algoritam': ['Logistic Regression', 'SVM', 'Random Forest', 'Naive Bayes', 'Decision Tree', 'KNN'],\n",
    "    'Train_Accuracy': ['96.2%', '97.7%', '100.0%', '95.3%', '100.0%', '97.7%'],\n",
    "    'Train_Članak': ['99.1%', '98.8%', '99.5%', '95.1%', '100.0%', '97.6%'],\n",
    "    'Test_Accuracy': ['97.9%', '97.9%', '96.5%', '95.8%', '93.7%', '96.5%'],\n",
    "    'Test_Članak': ['94.4%', '96.5%', '96.5%', '92.3%', '95.1%', '95.8%']\n",
    "}\n",
    "print(pd.DataFrame(rfe_log_reg_15_minmax))"
   ]
  },
  {
   "cell_type": "markdown",
   "metadata": {},
   "source": [
    "# Zaključak"
   ]
  },
  {
   "cell_type": "markdown",
   "metadata": {},
   "source": [
    "Najbolji training accuracy dobiven je metodom normalizacije z-vrijednosti i metodom analize glavnih komponenata (PCA).\n",
    "\n",
    "Min-max normalizacija donosi najbolji testing accuracy za sve algoritme uz iznimku naivnog Bayesa koji je malo bolji rezultat imao s metodom RFE uz logističku regresiju i min-max (obični minmax: 95.1, RFE + minmax: 95.8).\n",
    "\n",
    "Maksimalna točnost testnog skupa uz Random Forest pokazuje se 96.5% te se uspješno dobiva sa svim pokušanim metodama osim PCA i RFE uz logističku regresiju i 8 značajki.\n",
    "\n",
    "Maksimalna točnost testnog skupa uz stablo odluke pokazuje se 95.1% te se uspješno dobiva s min-max normalizacijom i normalizacijom z-vrijednosti.\n",
    "\n",
    "Konačno, najbolje se pokazala kombinacija min-max normalizacije značajki i algoritam SVM."
   ]
  },
  {
   "cell_type": "code",
   "execution_count": null,
   "metadata": {},
   "outputs": [],
   "source": []
  }
 ],
 "metadata": {
  "kernelspec": {
   "display_name": "Python 3 (ipykernel)",
   "language": "python",
   "name": "python3"
  },
  "language_info": {
   "codemirror_mode": {
    "name": "ipython",
    "version": 3
   },
   "file_extension": ".py",
   "mimetype": "text/x-python",
   "name": "python",
   "nbconvert_exporter": "python",
   "pygments_lexer": "ipython3",
   "version": "3.11.5"
  }
 },
 "nbformat": 4,
 "nbformat_minor": 1
}
